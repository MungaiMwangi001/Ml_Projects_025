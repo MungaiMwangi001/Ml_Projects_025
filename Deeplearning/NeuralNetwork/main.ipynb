{
 "cells": [
  {
   "cell_type": "markdown",
   "id": "f7e11389",
   "metadata": {},
   "source": [
    "lets demonstrate how Backpropgation is used in neural networks to solve  the XOR problem"
   ]
  },
  {
   "cell_type": "markdown",
   "id": "73ae0651",
   "metadata": {},
   "source": [
    "## Define a neural network\n",
    "- input layer with 2 inputs\n",
    "- hidden layer with 4 neurons\n",
    "- ouput layer with  1 output neuron\n",
    "- Sigmoid function as the activation function"
   ]
  },
  {
   "cell_type": "code",
   "execution_count": null,
   "id": "9109b977",
   "metadata": {},
   "outputs": [
    {
     "name": "stdout",
     "output_type": "stream",
     "text": [
      "Epoch 0, Loss: 0.31814941749963055\n",
      "Epoch 4000, Loss: 0.040109507378415205\n",
      "Epoch 8000, Loss: 0.004269012743401914\n",
      "Predictions after training:\n",
      "[[0.05849406]\n",
      " [0.95075117]\n",
      " [0.95134241]\n",
      " [0.05067486]]\n"
     ]
    }
   ],
   "source": [
    "import numpy as np\n",
    "\n",
    "class NeuralNetwork:\n",
    "    def __init__(self, input_size, hidden_size, output_size):\n",
    "        self.input_size = input_size\n",
    "        self.hidden_size = hidden_size\n",
    "        self.output_size = output_size\n",
    "\n",
    "        self.weights_input_hidden = np.random.rand(self.input_size, self.hidden_size)\n",
    "        self.weights_hidden_output = np.random.rand(self.hidden_size, self.output_size)\n",
    "\n",
    "        self.bias_hidden = np.zeros((1, self.hidden_size))\n",
    "        self.bias_output = np.zeros((1, self.output_size))\n",
    "\n",
    "    def sigmoid(self, x):\n",
    "        return 1 / (1 + np.exp(-x))\n",
    "\n",
    "    def sigmoid_derivative(self, x):\n",
    "        return x * (1 - x)\n",
    "    \n",
    "\n",
    "   # Defining Feed Forward Network\n",
    "    def feedforward(self, X):\n",
    "        self.hidden_layer_activation = np.dot(X, self.weights_input_hidden) + self.bias_hidden\n",
    "        self.hidden_layer_output = self.sigmoid(self.hidden_layer_activation)\n",
    "\n",
    "        self.output_layer_activation = np.dot(self.hidden_layer_output, self.weights_hidden_output) + self.bias_output\n",
    "        self.output_layer_output = self.sigmoid(self.output_layer_activation)\n",
    "\n",
    "        return self.output_layer_output\n",
    "\n",
    "\n",
    "    # Defining Backward Network\n",
    "    def backward(self, X, y, learning_rate=0.01):\n",
    "        # Calculate the error at the output layer\n",
    "        output_error = y - self.output_layer_output\n",
    "        output_delta = output_error * self.sigmoid_derivative(self.output_layer_output)\n",
    "\n",
    "        # Calculate the error at the hidden layer\n",
    "        hidden_error = np.dot(output_delta, self.weights_hidden_output.T)\n",
    "        hidden_delta = hidden_error * self.sigmoid_derivative(self.hidden_layer_output)\n",
    "\n",
    "        # Update weights and biases\n",
    "        self.weights_hidden_output += np.dot(self.hidden_layer_output.T, output_delta) * learning_rate\n",
    "        self.bias_output += np.sum(output_delta, axis=0, keepdims=True) * learning_rate\n",
    "\n",
    "        self.weights_input_hidden += np.dot(X.T, hidden_delta) * learning_rate\n",
    "        self.bias_hidden += np.sum(hidden_delta, axis=0, keepdims=True) * learning_rate\n",
    "\n",
    "\n",
    "\n",
    "    #Training Network\n",
    "    def train(self, X, y, epochs, learning_rate):\n",
    "        for epoch in range(epochs):\n",
    "            self.feedforward(X)\n",
    "            self.backward(X, y, learning_rate)\n",
    "\n",
    "            if epoch % 4000 == 0:\n",
    "                loss = np.mean(np.square(y - self.output_layer_output))\n",
    "                print(f'Epoch {epoch}, Loss: {loss}')\n",
    "\n",
    "\n",
    "# Training Data\n",
    "X = np.array([[0, 0],\n",
    "              [0, 1],\n",
    "              [1, 0],\n",
    "              [1, 1]])\n",
    "\n",
    "y = np.array([[0],\n",
    "              [1],\n",
    "              [1],\n",
    "              [0]])\n",
    "\n",
    "# Initialize and train the network\n",
    "nn = NeuralNetwork(input_size=2, hidden_size=4, output_size=1)\n",
    "nn.train(X, y, epochs=10000, learning_rate=0.1)\n",
    "\n",
    "# Predictions after training\n",
    "output = nn.feedforward(X)\n",
    "print(\"Predictions after training:\")\n",
    "print(output)\n"
   ]
  }
 ],
 "metadata": {
  "kernelspec": {
   "display_name": "myenv",
   "language": "python",
   "name": "python3"
  },
  "language_info": {
   "codemirror_mode": {
    "name": "ipython",
    "version": 3
   },
   "file_extension": ".py",
   "mimetype": "text/x-python",
   "name": "python",
   "nbconvert_exporter": "python",
   "pygments_lexer": "ipython3",
   "version": "3.13.5"
  }
 },
 "nbformat": 4,
 "nbformat_minor": 5
}
